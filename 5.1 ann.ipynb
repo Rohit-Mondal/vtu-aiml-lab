{
 "cells": [
  {
   "cell_type": "code",
   "execution_count": 6,
   "metadata": {},
   "outputs": [
    {
     "name": "stdout",
     "output_type": "stream",
     "text": [
      "input:\n",
      "[[0.2 0.9]\n",
      " [0.1 0.5]\n",
      " [0.3 0.6]]\n",
      "target:\n",
      "[[0.92]\n",
      " [0.86]\n",
      " [0.89]]\n",
      "predicted:\n",
      "[[0.89471262]\n",
      " [0.88187425]\n",
      " [0.8901224 ]]\n"
     ]
    }
   ],
   "source": [
    "import numpy as np\n",
    "\n",
    "# initial the dataset and target\n",
    "X = np.array(([2,9],[1,5],[3,6]), dtype=float)\n",
    "Y = np.array(([92],[86],[89]), dtype=float)\n",
    "\n",
    "# squish the dataset values to between 0 and 1\n",
    "X /= 10\n",
    "Y /= 100\n",
    "\n",
    "def sigmoid(x):\n",
    "  return 1 / (1 + np.exp(-x))\n",
    "\n",
    "# variable initialisation\n",
    "number_of_iterations = 10000\n",
    "learning_rate = 0.1\n",
    "input_nodes = 2\n",
    "output_nodes = 1\n",
    "hidden_nodes = 3\n",
    "\n",
    "# weights and bias initialisation\n",
    "wh = np.random.uniform(size=(input_nodes, hidden_nodes))\n",
    "wout = np.random.uniform(size=(hidden_nodes, output_nodes))\n",
    "bh = np.random.uniform(size=(1, hidden_nodes))\n",
    "bout = np.random.uniform(size=(1, output_nodes))\n",
    "\n",
    "# start algorithm\n",
    "for i in range(number_of_iterations):\n",
    "  # forward propogation\n",
    "  hout = sigmoid(X @ wh + bh)\n",
    "  out = sigmoid(hout @ wout + bout)\n",
    "\n",
    "  # backpropogation\n",
    "  d_out = out * (1 - out) * (Y - out)\n",
    "  d_hidden = hout * (1 - hout) * (d_out @ wout.T)\n",
    "\n",
    "  # modify the weights\n",
    "  wout += learning_rate * hout.T @ d_out\n",
    "  wh += learning_rate * X.T @ d_hidden\n",
    "\n",
    "print('input:\\n' + str(X))\n",
    "print('target:\\n' + str(Y))\n",
    "print('predicted:\\n' + str(out))"
   ]
  }
 ],
 "metadata": {
  "kernelspec": {
   "display_name": "college",
   "language": "python",
   "name": "python3"
  },
  "language_info": {
   "codemirror_mode": {
    "name": "ipython",
    "version": 3
   },
   "file_extension": ".py",
   "mimetype": "text/x-python",
   "name": "python",
   "nbconvert_exporter": "python",
   "pygments_lexer": "ipython3",
   "version": "3.12.0"
  }
 },
 "nbformat": 4,
 "nbformat_minor": 2
}
